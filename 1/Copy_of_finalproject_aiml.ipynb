{
  "nbformat": 4,
  "nbformat_minor": 0,
  "metadata": {
    "colab": {
      "provenance": [],
      "authorship_tag": "ABX9TyPMAQsCefmEg2M2uNN0+CUr",
      "include_colab_link": true
    },
    "kernelspec": {
      "name": "python3",
      "display_name": "Python 3"
    },
    "language_info": {
      "name": "python"
    },
    "gpuClass": "standard",
    "accelerator": "GPU"
  },
  "cells": [
    {
      "cell_type": "markdown",
      "metadata": {
        "id": "view-in-github",
        "colab_type": "text"
      },
      "source": [
        "<a href=\"https://colab.research.google.com/github/deadwalker10s/-ideal-inventions/blob/main/1/Copy_of_finalproject_aiml.ipynb\" target=\"_parent\"><img src=\"https://colab.research.google.com/assets/colab-badge.svg\" alt=\"Open In Colab\"/></a>"
      ]
    },
    {
      "cell_type": "markdown",
      "source": [
        "# AIML Project\n",
        "## Object Identification for container parts using yolov3 opencv\n",
        "### container part classes\n",
        "\n",
        "  floor,\n",
        "  Rearend top frame,\n",
        "  Rearend bottom frame,\n",
        "  Front top frame,\n",
        "  Front bottom frame,\n",
        "  Top left frame,\n",
        "  bottom left frame,\n",
        "  Top right frame,\n",
        "  bottom right frame,\n",
        "  Interior,\n",
        "  Understructure,\n",
        "  corner fitting,\n",
        "  Rear cornerpost1,\n",
        "  Rear cornerpost2,\n",
        "  Front cornerpost1,\n",
        "  Front cornerpost2,\n",
        "  door handle,\n",
        "  locking bar1,\n",
        "  locking bar2,\n",
        "  locking bar3,\n",
        "  locking bar4,\n",
        "  locking barbracket1,\n",
        "  locking barbracket2,\n",
        "  locking barbracket3,\n",
        "  locking barbracket4,\n",
        "  locking barbracket5,\n",
        "  locking barbracket6,\n",
        "  locking barbracket7,\n",
        "  locking barbracket8,\n",
        "  hinges,\n",
        "  right hinges1,\n",
        "  right hinges2,\n",
        "  right hinges3,\n",
        "  right hinges4,\n",
        "  left hinges1,\n",
        "  left hinges2,\n",
        "  left hinges3,\n",
        "  left hinges4,\n",
        "  seal,\n",
        "  forklift pocket,\n",
        "  frame\n"
      ],
      "metadata": {
        "id": "gofWASN3zina"
      }
    },
    {
      "cell_type": "code",
      "source": [
        "#!pip install tensorflow-gpu"
      ],
      "metadata": {
        "id": "v9CmuFuyu73Z"
      },
      "execution_count": null,
      "outputs": []
    },
    {
      "cell_type": "code",
      "source": [
        "import tensorflow as tf\n",
        "print(tf.__version__)"
      ],
      "metadata": {
        "id": "4FCrtdOqwvm4",
        "colab": {
          "base_uri": "https://localhost:8080/"
        },
        "outputId": "2ac9a497-c22c-47bf-9fcc-1876123ce62c"
      },
      "execution_count": null,
      "outputs": [
        {
          "output_type": "stream",
          "name": "stdout",
          "text": [
            "2.9.2\n"
          ]
        }
      ]
    },
    {
      "cell_type": "code",
      "source": [
        "from google.colab import drive\n",
        "drive.mount('/content/drive')"
      ],
      "metadata": {
        "id": "nN5Y3I_p0EpU",
        "colab": {
          "base_uri": "https://localhost:8080/"
        },
        "outputId": "a0577278-4b77-4698-faa2-023da110163d"
      },
      "execution_count": null,
      "outputs": [
        {
          "output_type": "stream",
          "name": "stdout",
          "text": [
            "Drive already mounted at /content/drive; to attempt to forcibly remount, call drive.mount(\"/content/drive\", force_remount=True).\n"
          ]
        }
      ]
    },
    {
      "cell_type": "code",
      "source": [
        "!ls '/content/drive/My Drive/Yolo_customData'"
      ],
      "metadata": {
        "id": "5vFyWwZioQ57",
        "colab": {
          "base_uri": "https://localhost:8080/"
        },
        "outputId": "f46ad04b-4d4e-413c-d25f-33a2ef66cb31"
      },
      "execution_count": null,
      "outputs": [
        {
          "output_type": "stream",
          "name": "stdout",
          "text": [
            "backup\tcustomdata  customdata.zip  custom_weight  darknet\n"
          ]
        }
      ]
    },
    {
      "cell_type": "code",
      "source": [
        "!unzip '/content/drive/My Drive/Yolo_customData/customdata.zip' -d '/content/drive/My Drive/Yolo_customData'"
      ],
      "metadata": {
        "id": "xraHZXrQ4fGk"
      },
      "execution_count": null,
      "outputs": []
    },
    {
      "cell_type": "code",
      "source": [
        "!git clone 'https://github.com/pjreddie/darknet.git' '/content/drive/My Drive/Yolo_customData/darknet'"
      ],
      "metadata": {
        "id": "9oRmNzx9u50J",
        "colab": {
          "base_uri": "https://localhost:8080/"
        },
        "outputId": "2e8d947c-3ce0-439c-ea42-f7f80fe2255f"
      },
      "execution_count": null,
      "outputs": [
        {
          "output_type": "stream",
          "name": "stdout",
          "text": [
            "Cloning into '/content/drive/My Drive/Yolo_customData/darknet'...\n",
            "remote: Enumerating objects: 5955, done.\u001b[K\n",
            "remote: Total 5955 (delta 0), reused 0 (delta 0), pack-reused 5955\u001b[K\n",
            "Receiving objects: 100% (5955/5955), 6.37 MiB | 9.15 MiB/s, done.\n",
            "Resolving deltas: 100% (3932/3932), done.\n",
            "Checking out files: 100% (979/979), done.\n"
          ]
        }
      ]
    },
    {
      "cell_type": "code",
      "source": [
        "%cd /content/drive/My Drive/Yolo_customData/darknet"
      ],
      "metadata": {
        "colab": {
          "base_uri": "https://localhost:8080/"
        },
        "id": "l-uDNT6E7Rky",
        "outputId": "009742c9-a9a7-42fe-a59e-586f6dbf5333"
      },
      "execution_count": null,
      "outputs": [
        {
          "output_type": "stream",
          "name": "stdout",
          "text": [
            "/content/drive/My Drive/Yolo_customData/darknet\n"
          ]
        }
      ]
    },
    {
      "cell_type": "code",
      "source": [
        "!ls\n"
      ],
      "metadata": {
        "id": "a1RHGKw37ozb",
        "colab": {
          "base_uri": "https://localhost:8080/"
        },
        "outputId": "ebd54fb9-b362-4de5-be09-27b22addbe35"
      },
      "execution_count": null,
      "outputs": [
        {
          "output_type": "stream",
          "name": "stdout",
          "text": [
            "cfg\t  include\tLICENSE.gen   LICENSE.mit  python     src\n",
            "data\t  LICENSE\tLICENSE.gpl   LICENSE.v1   README.md\n",
            "examples  LICENSE.fuck\tLICENSE.meta  Makefile\t   scripts\n"
          ]
        }
      ]
    },
    {
      "cell_type": "code",
      "source": [
        "!make"
      ],
      "metadata": {
        "id": "-5En_oBg7qDa",
        "colab": {
          "base_uri": "https://localhost:8080/"
        },
        "outputId": "fcf8172b-bec3-4c6c-dd64-263f16e504d1"
      },
      "execution_count": null,
      "outputs": [
        {
          "output_type": "stream",
          "name": "stdout",
          "text": [
            "mkdir -p obj\n",
            "mkdir -p backup\n",
            "mkdir -p results\n",
            "gcc -Iinclude/ -Isrc/ -Wall -Wno-unused-result -Wno-unknown-pragmas -Wfatal-errors -fPIC -Ofast -c ./src/gemm.c -o obj/gemm.o\n",
            "gcc -Iinclude/ -Isrc/ -Wall -Wno-unused-result -Wno-unknown-pragmas -Wfatal-errors -fPIC -Ofast -c ./src/utils.c -o obj/utils.o\n",
            "gcc -Iinclude/ -Isrc/ -Wall -Wno-unused-result -Wno-unknown-pragmas -Wfatal-errors -fPIC -Ofast -c ./src/cuda.c -o obj/cuda.o\n",
            "gcc -Iinclude/ -Isrc/ -Wall -Wno-unused-result -Wno-unknown-pragmas -Wfatal-errors -fPIC -Ofast -c ./src/deconvolutional_layer.c -o obj/deconvolutional_layer.o\n",
            "gcc -Iinclude/ -Isrc/ -Wall -Wno-unused-result -Wno-unknown-pragmas -Wfatal-errors -fPIC -Ofast -c ./src/convolutional_layer.c -o obj/convolutional_layer.o\n",
            "gcc -Iinclude/ -Isrc/ -Wall -Wno-unused-result -Wno-unknown-pragmas -Wfatal-errors -fPIC -Ofast -c ./src/list.c -o obj/list.o\n",
            "gcc -Iinclude/ -Isrc/ -Wall -Wno-unused-result -Wno-unknown-pragmas -Wfatal-errors -fPIC -Ofast -c ./src/image.c -o obj/image.o\n",
            "gcc -Iinclude/ -Isrc/ -Wall -Wno-unused-result -Wno-unknown-pragmas -Wfatal-errors -fPIC -Ofast -c ./src/activations.c -o obj/activations.o\n",
            "gcc -Iinclude/ -Isrc/ -Wall -Wno-unused-result -Wno-unknown-pragmas -Wfatal-errors -fPIC -Ofast -c ./src/im2col.c -o obj/im2col.o\n",
            "gcc -Iinclude/ -Isrc/ -Wall -Wno-unused-result -Wno-unknown-pragmas -Wfatal-errors -fPIC -Ofast -c ./src/col2im.c -o obj/col2im.o\n",
            "gcc -Iinclude/ -Isrc/ -Wall -Wno-unused-result -Wno-unknown-pragmas -Wfatal-errors -fPIC -Ofast -c ./src/blas.c -o obj/blas.o\n",
            "gcc -Iinclude/ -Isrc/ -Wall -Wno-unused-result -Wno-unknown-pragmas -Wfatal-errors -fPIC -Ofast -c ./src/crop_layer.c -o obj/crop_layer.o\n",
            "gcc -Iinclude/ -Isrc/ -Wall -Wno-unused-result -Wno-unknown-pragmas -Wfatal-errors -fPIC -Ofast -c ./src/dropout_layer.c -o obj/dropout_layer.o\n",
            "gcc -Iinclude/ -Isrc/ -Wall -Wno-unused-result -Wno-unknown-pragmas -Wfatal-errors -fPIC -Ofast -c ./src/maxpool_layer.c -o obj/maxpool_layer.o\n",
            "gcc -Iinclude/ -Isrc/ -Wall -Wno-unused-result -Wno-unknown-pragmas -Wfatal-errors -fPIC -Ofast -c ./src/softmax_layer.c -o obj/softmax_layer.o\n",
            "gcc -Iinclude/ -Isrc/ -Wall -Wno-unused-result -Wno-unknown-pragmas -Wfatal-errors -fPIC -Ofast -c ./src/data.c -o obj/data.o\n",
            "gcc -Iinclude/ -Isrc/ -Wall -Wno-unused-result -Wno-unknown-pragmas -Wfatal-errors -fPIC -Ofast -c ./src/matrix.c -o obj/matrix.o\n",
            "gcc -Iinclude/ -Isrc/ -Wall -Wno-unused-result -Wno-unknown-pragmas -Wfatal-errors -fPIC -Ofast -c ./src/network.c -o obj/network.o\n",
            "gcc -Iinclude/ -Isrc/ -Wall -Wno-unused-result -Wno-unknown-pragmas -Wfatal-errors -fPIC -Ofast -c ./src/connected_layer.c -o obj/connected_layer.o\n",
            "gcc -Iinclude/ -Isrc/ -Wall -Wno-unused-result -Wno-unknown-pragmas -Wfatal-errors -fPIC -Ofast -c ./src/cost_layer.c -o obj/cost_layer.o\n",
            "gcc -Iinclude/ -Isrc/ -Wall -Wno-unused-result -Wno-unknown-pragmas -Wfatal-errors -fPIC -Ofast -c ./src/parser.c -o obj/parser.o\n",
            "gcc -Iinclude/ -Isrc/ -Wall -Wno-unused-result -Wno-unknown-pragmas -Wfatal-errors -fPIC -Ofast -c ./src/option_list.c -o obj/option_list.o\n",
            "gcc -Iinclude/ -Isrc/ -Wall -Wno-unused-result -Wno-unknown-pragmas -Wfatal-errors -fPIC -Ofast -c ./src/detection_layer.c -o obj/detection_layer.o\n",
            "gcc -Iinclude/ -Isrc/ -Wall -Wno-unused-result -Wno-unknown-pragmas -Wfatal-errors -fPIC -Ofast -c ./src/route_layer.c -o obj/route_layer.o\n",
            "gcc -Iinclude/ -Isrc/ -Wall -Wno-unused-result -Wno-unknown-pragmas -Wfatal-errors -fPIC -Ofast -c ./src/upsample_layer.c -o obj/upsample_layer.o\n",
            "gcc -Iinclude/ -Isrc/ -Wall -Wno-unused-result -Wno-unknown-pragmas -Wfatal-errors -fPIC -Ofast -c ./src/box.c -o obj/box.o\n",
            "gcc -Iinclude/ -Isrc/ -Wall -Wno-unused-result -Wno-unknown-pragmas -Wfatal-errors -fPIC -Ofast -c ./src/normalization_layer.c -o obj/normalization_layer.o\n",
            "gcc -Iinclude/ -Isrc/ -Wall -Wno-unused-result -Wno-unknown-pragmas -Wfatal-errors -fPIC -Ofast -c ./src/avgpool_layer.c -o obj/avgpool_layer.o\n",
            "gcc -Iinclude/ -Isrc/ -Wall -Wno-unused-result -Wno-unknown-pragmas -Wfatal-errors -fPIC -Ofast -c ./src/layer.c -o obj/layer.o\n",
            "gcc -Iinclude/ -Isrc/ -Wall -Wno-unused-result -Wno-unknown-pragmas -Wfatal-errors -fPIC -Ofast -c ./src/local_layer.c -o obj/local_layer.o\n",
            "gcc -Iinclude/ -Isrc/ -Wall -Wno-unused-result -Wno-unknown-pragmas -Wfatal-errors -fPIC -Ofast -c ./src/shortcut_layer.c -o obj/shortcut_layer.o\n",
            "gcc -Iinclude/ -Isrc/ -Wall -Wno-unused-result -Wno-unknown-pragmas -Wfatal-errors -fPIC -Ofast -c ./src/logistic_layer.c -o obj/logistic_layer.o\n",
            "gcc -Iinclude/ -Isrc/ -Wall -Wno-unused-result -Wno-unknown-pragmas -Wfatal-errors -fPIC -Ofast -c ./src/activation_layer.c -o obj/activation_layer.o\n",
            "gcc -Iinclude/ -Isrc/ -Wall -Wno-unused-result -Wno-unknown-pragmas -Wfatal-errors -fPIC -Ofast -c ./src/rnn_layer.c -o obj/rnn_layer.o\n",
            "gcc -Iinclude/ -Isrc/ -Wall -Wno-unused-result -Wno-unknown-pragmas -Wfatal-errors -fPIC -Ofast -c ./src/gru_layer.c -o obj/gru_layer.o\n",
            "gcc -Iinclude/ -Isrc/ -Wall -Wno-unused-result -Wno-unknown-pragmas -Wfatal-errors -fPIC -Ofast -c ./src/crnn_layer.c -o obj/crnn_layer.o\n",
            "gcc -Iinclude/ -Isrc/ -Wall -Wno-unused-result -Wno-unknown-pragmas -Wfatal-errors -fPIC -Ofast -c ./src/demo.c -o obj/demo.o\n",
            "gcc -Iinclude/ -Isrc/ -Wall -Wno-unused-result -Wno-unknown-pragmas -Wfatal-errors -fPIC -Ofast -c ./src/batchnorm_layer.c -o obj/batchnorm_layer.o\n",
            "gcc -Iinclude/ -Isrc/ -Wall -Wno-unused-result -Wno-unknown-pragmas -Wfatal-errors -fPIC -Ofast -c ./src/region_layer.c -o obj/region_layer.o\n",
            "gcc -Iinclude/ -Isrc/ -Wall -Wno-unused-result -Wno-unknown-pragmas -Wfatal-errors -fPIC -Ofast -c ./src/reorg_layer.c -o obj/reorg_layer.o\n",
            "gcc -Iinclude/ -Isrc/ -Wall -Wno-unused-result -Wno-unknown-pragmas -Wfatal-errors -fPIC -Ofast -c ./src/tree.c -o obj/tree.o\n",
            "gcc -Iinclude/ -Isrc/ -Wall -Wno-unused-result -Wno-unknown-pragmas -Wfatal-errors -fPIC -Ofast -c ./src/lstm_layer.c -o obj/lstm_layer.o\n",
            "gcc -Iinclude/ -Isrc/ -Wall -Wno-unused-result -Wno-unknown-pragmas -Wfatal-errors -fPIC -Ofast -c ./src/l2norm_layer.c -o obj/l2norm_layer.o\n",
            "gcc -Iinclude/ -Isrc/ -Wall -Wno-unused-result -Wno-unknown-pragmas -Wfatal-errors -fPIC -Ofast -c ./src/yolo_layer.c -o obj/yolo_layer.o\n",
            "gcc -Iinclude/ -Isrc/ -Wall -Wno-unused-result -Wno-unknown-pragmas -Wfatal-errors -fPIC -Ofast -c ./src/iseg_layer.c -o obj/iseg_layer.o\n",
            "g++ -Iinclude/ -Isrc/ -Wall -Wno-unused-result -Wno-unknown-pragmas -Wfatal-errors -fPIC -Ofast -c ./src/image_opencv.cpp -o obj/image_opencv.o\n",
            "gcc -Wall -Wno-unused-result -Wno-unknown-pragmas -Wfatal-errors -fPIC -Ofast -shared obj/gemm.o obj/utils.o obj/cuda.o obj/deconvolutional_layer.o obj/convolutional_layer.o obj/list.o obj/image.o obj/activations.o obj/im2col.o obj/col2im.o obj/blas.o obj/crop_layer.o obj/dropout_layer.o obj/maxpool_layer.o obj/softmax_layer.o obj/data.o obj/matrix.o obj/network.o obj/connected_layer.o obj/cost_layer.o obj/parser.o obj/option_list.o obj/detection_layer.o obj/route_layer.o obj/upsample_layer.o obj/box.o obj/normalization_layer.o obj/avgpool_layer.o obj/layer.o obj/local_layer.o obj/shortcut_layer.o obj/logistic_layer.o obj/activation_layer.o obj/rnn_layer.o obj/gru_layer.o obj/crnn_layer.o obj/demo.o obj/batchnorm_layer.o obj/region_layer.o obj/reorg_layer.o obj/tree.o obj/lstm_layer.o obj/l2norm_layer.o obj/yolo_layer.o obj/iseg_layer.o obj/image_opencv.o -o libdarknet.so -lm -pthread \n",
            "ar rcs libdarknet.a obj/gemm.o obj/utils.o obj/cuda.o obj/deconvolutional_layer.o obj/convolutional_layer.o obj/list.o obj/image.o obj/activations.o obj/im2col.o obj/col2im.o obj/blas.o obj/crop_layer.o obj/dropout_layer.o obj/maxpool_layer.o obj/softmax_layer.o obj/data.o obj/matrix.o obj/network.o obj/connected_layer.o obj/cost_layer.o obj/parser.o obj/option_list.o obj/detection_layer.o obj/route_layer.o obj/upsample_layer.o obj/box.o obj/normalization_layer.o obj/avgpool_layer.o obj/layer.o obj/local_layer.o obj/shortcut_layer.o obj/logistic_layer.o obj/activation_layer.o obj/rnn_layer.o obj/gru_layer.o obj/crnn_layer.o obj/demo.o obj/batchnorm_layer.o obj/region_layer.o obj/reorg_layer.o obj/tree.o obj/lstm_layer.o obj/l2norm_layer.o obj/yolo_layer.o obj/iseg_layer.o obj/image_opencv.o\n",
            "gcc -Iinclude/ -Isrc/ -Wall -Wno-unused-result -Wno-unknown-pragmas -Wfatal-errors -fPIC -Ofast -c ./examples/captcha.c -o obj/captcha.o\n",
            "gcc -Iinclude/ -Isrc/ -Wall -Wno-unused-result -Wno-unknown-pragmas -Wfatal-errors -fPIC -Ofast -c ./examples/lsd.c -o obj/lsd.o\n",
            "gcc -Iinclude/ -Isrc/ -Wall -Wno-unused-result -Wno-unknown-pragmas -Wfatal-errors -fPIC -Ofast -c ./examples/super.c -o obj/super.o\n",
            "gcc -Iinclude/ -Isrc/ -Wall -Wno-unused-result -Wno-unknown-pragmas -Wfatal-errors -fPIC -Ofast -c ./examples/art.c -o obj/art.o\n",
            "gcc -Iinclude/ -Isrc/ -Wall -Wno-unused-result -Wno-unknown-pragmas -Wfatal-errors -fPIC -Ofast -c ./examples/tag.c -o obj/tag.o\n",
            "gcc -Iinclude/ -Isrc/ -Wall -Wno-unused-result -Wno-unknown-pragmas -Wfatal-errors -fPIC -Ofast -c ./examples/cifar.c -o obj/cifar.o\n",
            "gcc -Iinclude/ -Isrc/ -Wall -Wno-unused-result -Wno-unknown-pragmas -Wfatal-errors -fPIC -Ofast -c ./examples/go.c -o obj/go.o\n",
            "gcc -Iinclude/ -Isrc/ -Wall -Wno-unused-result -Wno-unknown-pragmas -Wfatal-errors -fPIC -Ofast -c ./examples/rnn.c -o obj/rnn.o\n",
            "gcc -Iinclude/ -Isrc/ -Wall -Wno-unused-result -Wno-unknown-pragmas -Wfatal-errors -fPIC -Ofast -c ./examples/segmenter.c -o obj/segmenter.o\n",
            "gcc -Iinclude/ -Isrc/ -Wall -Wno-unused-result -Wno-unknown-pragmas -Wfatal-errors -fPIC -Ofast -c ./examples/regressor.c -o obj/regressor.o\n",
            "gcc -Iinclude/ -Isrc/ -Wall -Wno-unused-result -Wno-unknown-pragmas -Wfatal-errors -fPIC -Ofast -c ./examples/classifier.c -o obj/classifier.o\n",
            "gcc -Iinclude/ -Isrc/ -Wall -Wno-unused-result -Wno-unknown-pragmas -Wfatal-errors -fPIC -Ofast -c ./examples/coco.c -o obj/coco.o\n",
            "gcc -Iinclude/ -Isrc/ -Wall -Wno-unused-result -Wno-unknown-pragmas -Wfatal-errors -fPIC -Ofast -c ./examples/yolo.c -o obj/yolo.o\n",
            "gcc -Iinclude/ -Isrc/ -Wall -Wno-unused-result -Wno-unknown-pragmas -Wfatal-errors -fPIC -Ofast -c ./examples/detector.c -o obj/detector.o\n",
            "gcc -Iinclude/ -Isrc/ -Wall -Wno-unused-result -Wno-unknown-pragmas -Wfatal-errors -fPIC -Ofast -c ./examples/nightmare.c -o obj/nightmare.o\n",
            "gcc -Iinclude/ -Isrc/ -Wall -Wno-unused-result -Wno-unknown-pragmas -Wfatal-errors -fPIC -Ofast -c ./examples/instance-segmenter.c -o obj/instance-segmenter.o\n",
            "gcc -Iinclude/ -Isrc/ -Wall -Wno-unused-result -Wno-unknown-pragmas -Wfatal-errors -fPIC -Ofast -c ./examples/darknet.c -o obj/darknet.o\n",
            "gcc -Iinclude/ -Isrc/ -Wall -Wno-unused-result -Wno-unknown-pragmas -Wfatal-errors -fPIC -Ofast obj/captcha.o obj/lsd.o obj/super.o obj/art.o obj/tag.o obj/cifar.o obj/go.o obj/rnn.o obj/segmenter.o obj/regressor.o obj/classifier.o obj/coco.o obj/yolo.o obj/detector.o obj/nightmare.o obj/instance-segmenter.o obj/darknet.o libdarknet.a -o darknet -lm -pthread  libdarknet.a\n"
          ]
        }
      ]
    },
    {
      "cell_type": "code",
      "source": [
        "%cd /content/drive/My Drive/Yolo_customData"
      ],
      "metadata": {
        "id": "oqPRaPBc778d",
        "colab": {
          "base_uri": "https://localhost:8080/"
        },
        "outputId": "bb14e4bd-8291-4053-c386-df1e85ae20cf"
      },
      "execution_count": null,
      "outputs": [
        {
          "output_type": "stream",
          "name": "stdout",
          "text": [
            "/content/drive/My Drive/Yolo_customData\n"
          ]
        }
      ]
    },
    {
      "cell_type": "code",
      "source": [
        "!python customdata/creating-files-data-and-name.py"
      ],
      "metadata": {
        "id": "mJqkM-kBB8K_"
      },
      "execution_count": null,
      "outputs": []
    },
    {
      "cell_type": "code",
      "source": [
        "!python customdata/creating-train-and-test-txt-files.py"
      ],
      "metadata": {
        "id": "_0lO86cGH-BE"
      },
      "execution_count": null,
      "outputs": []
    },
    {
      "cell_type": "code",
      "source": [
        "!darknet/darknet detector train customdata/labelled_data.data darknet/cfg/yolov3.cfg custom_weight/darknet53.conv.74 -dont_show\n",
        "#darknet/darknet detector train custom_cfg/licence_plate.data custom_cfg/licence_plate.cfg custom_cfg/darknet53.conv.74 -dont_show"
      ],
      "metadata": {
        "id": "9jQ7Vi5IIoxu",
        "colab": {
          "base_uri": "https://localhost:8080/"
        },
        "outputId": "45076774-920b-48d7-de2c-3198f503e280"
      },
      "execution_count": null,
      "outputs": [
        {
          "output_type": "stream",
          "name": "stdout",
          "text": [
            "yolov3\n",
            "layer     filters    size              input                output\n",
            "    0 conv     32  3 x 3 / 1   608 x 608 x   3   ->   608 x 608 x  32  0.639 BFLOPs\n",
            "    1 conv     64  3 x 3 / 2   608 x 608 x  32   ->   304 x 304 x  64  3.407 BFLOPs\n",
            "    2 conv     32  1 x 1 / 1   304 x 304 x  64   ->   304 x 304 x  32  0.379 BFLOPs\n",
            "    3 conv     64  3 x 3 / 1   304 x 304 x  32   ->   304 x 304 x  64  3.407 BFLOPs\n",
            "    4 res    1                 304 x 304 x  64   ->   304 x 304 x  64\n",
            "    5 conv    128  3 x 3 / 2   304 x 304 x  64   ->   152 x 152 x 128  3.407 BFLOPs\n",
            "    6 conv     64  1 x 1 / 1   152 x 152 x 128   ->   152 x 152 x  64  0.379 BFLOPs\n",
            "    7 conv    128  3 x 3 / 1   152 x 152 x  64   ->   152 x 152 x 128  3.407 BFLOPs\n",
            "    8 res    5                 152 x 152 x 128   ->   152 x 152 x 128\n",
            "    9 conv     64  1 x 1 / 1   152 x 152 x 128   ->   152 x 152 x  64  0.379 BFLOPs\n",
            "   10 conv    128  3 x 3 / 1   152 x 152 x  64   ->   152 x 152 x 128  3.407 BFLOPs\n",
            "   11 res    8                 152 x 152 x 128   ->   152 x 152 x 128\n",
            "   12 conv    256  3 x 3 / 2   152 x 152 x 128   ->    76 x  76 x 256  3.407 BFLOPs\n",
            "   13 conv    128  1 x 1 / 1    76 x  76 x 256   ->    76 x  76 x 128  0.379 BFLOPs\n",
            "   14 conv    256  3 x 3 / 1    76 x  76 x 128   ->    76 x  76 x 256  3.407 BFLOPs\n",
            "   15 res   12                  76 x  76 x 256   ->    76 x  76 x 256\n",
            "   16 conv    128  1 x 1 / 1    76 x  76 x 256   ->    76 x  76 x 128  0.379 BFLOPs\n",
            "   17 conv    256  3 x 3 / 1    76 x  76 x 128   ->    76 x  76 x 256  3.407 BFLOPs\n",
            "   18 res   15                  76 x  76 x 256   ->    76 x  76 x 256\n",
            "   19 conv    128  1 x 1 / 1    76 x  76 x 256   ->    76 x  76 x 128  0.379 BFLOPs\n",
            "   20 conv    256  3 x 3 / 1    76 x  76 x 128   ->    76 x  76 x 256  3.407 BFLOPs\n",
            "   21 res   18                  76 x  76 x 256   ->    76 x  76 x 256\n",
            "   22 conv    128  1 x 1 / 1    76 x  76 x 256   ->    76 x  76 x 128  0.379 BFLOPs\n",
            "   23 conv    256  3 x 3 / 1    76 x  76 x 128   ->    76 x  76 x 256  3.407 BFLOPs\n",
            "   24 res   21                  76 x  76 x 256   ->    76 x  76 x 256\n",
            "   25 conv    128  1 x 1 / 1    76 x  76 x 256   ->    76 x  76 x 128  0.379 BFLOPs\n",
            "   26 conv    256  3 x 3 / 1    76 x  76 x 128   ->    76 x  76 x 256  3.407 BFLOPs\n",
            "   27 res   24                  76 x  76 x 256   ->    76 x  76 x 256\n",
            "   28 conv    128  1 x 1 / 1    76 x  76 x 256   ->    76 x  76 x 128  0.379 BFLOPs\n",
            "   29 conv    256  3 x 3 / 1    76 x  76 x 128   ->    76 x  76 x 256  3.407 BFLOPs\n",
            "   30 res   27                  76 x  76 x 256   ->    76 x  76 x 256\n",
            "   31 conv    128  1 x 1 / 1    76 x  76 x 256   ->    76 x  76 x 128  0.379 BFLOPs\n",
            "   32 conv    256  3 x 3 / 1    76 x  76 x 128   ->    76 x  76 x 256  3.407 BFLOPs\n",
            "   33 res   30                  76 x  76 x 256   ->    76 x  76 x 256\n",
            "   34 conv    128  1 x 1 / 1    76 x  76 x 256   ->    76 x  76 x 128  0.379 BFLOPs\n",
            "   35 conv    256  3 x 3 / 1    76 x  76 x 128   ->    76 x  76 x 256  3.407 BFLOPs\n",
            "   36 res   33                  76 x  76 x 256   ->    76 x  76 x 256\n",
            "   37 conv    512  3 x 3 / 2    76 x  76 x 256   ->    38 x  38 x 512  3.407 BFLOPs\n",
            "   38 conv    256  1 x 1 / 1    38 x  38 x 512   ->    38 x  38 x 256  0.379 BFLOPs\n",
            "   39 conv    512  3 x 3 / 1    38 x  38 x 256   ->    38 x  38 x 512  3.407 BFLOPs\n",
            "   40 res   37                  38 x  38 x 512   ->    38 x  38 x 512\n",
            "   41 conv    256  1 x 1 / 1    38 x  38 x 512   ->    38 x  38 x 256  0.379 BFLOPs\n",
            "   42 conv    512  3 x 3 / 1    38 x  38 x 256   ->    38 x  38 x 512  3.407 BFLOPs\n",
            "   43 res   40                  38 x  38 x 512   ->    38 x  38 x 512\n",
            "   44 conv    256  1 x 1 / 1    38 x  38 x 512   ->    38 x  38 x 256  0.379 BFLOPs\n",
            "   45 conv    512  3 x 3 / 1    38 x  38 x 256   ->    38 x  38 x 512  3.407 BFLOPs\n",
            "   46 res   43                  38 x  38 x 512   ->    38 x  38 x 512\n",
            "   47 conv    256  1 x 1 / 1    38 x  38 x 512   ->    38 x  38 x 256  0.379 BFLOPs\n",
            "   48 conv    512  3 x 3 / 1    38 x  38 x 256   ->    38 x  38 x 512  3.407 BFLOPs\n",
            "   49 res   46                  38 x  38 x 512   ->    38 x  38 x 512\n",
            "   50 conv    256  1 x 1 / 1    38 x  38 x 512   ->    38 x  38 x 256  0.379 BFLOPs\n",
            "   51 conv    512  3 x 3 / 1    38 x  38 x 256   ->    38 x  38 x 512  3.407 BFLOPs\n",
            "   52 res   49                  38 x  38 x 512   ->    38 x  38 x 512\n",
            "   53 conv    256  1 x 1 / 1    38 x  38 x 512   ->    38 x  38 x 256  0.379 BFLOPs\n",
            "   54 conv    512  3 x 3 / 1    38 x  38 x 256   ->    38 x  38 x 512  3.407 BFLOPs\n",
            "   55 res   52                  38 x  38 x 512   ->    38 x  38 x 512\n",
            "   56 conv    256  1 x 1 / 1    38 x  38 x 512   ->    38 x  38 x 256  0.379 BFLOPs\n",
            "   57 conv    512  3 x 3 / 1    38 x  38 x 256   ->    38 x  38 x 512  3.407 BFLOPs\n",
            "   58 res   55                  38 x  38 x 512   ->    38 x  38 x 512\n",
            "   59 conv    256  1 x 1 / 1    38 x  38 x 512   ->    38 x  38 x 256  0.379 BFLOPs\n",
            "   60 conv    512  3 x 3 / 1    38 x  38 x 256   ->    38 x  38 x 512  3.407 BFLOPs\n",
            "   61 res   58                  38 x  38 x 512   ->    38 x  38 x 512\n",
            "   62 conv   1024  3 x 3 / 2    38 x  38 x 512   ->    19 x  19 x1024  3.407 BFLOPs\n",
            "   63 conv    512  1 x 1 / 1    19 x  19 x1024   ->    19 x  19 x 512  0.379 BFLOPs\n",
            "   64 conv   1024  3 x 3 / 1    19 x  19 x 512   ->    19 x  19 x1024  3.407 BFLOPs\n",
            "   65 res   62                  19 x  19 x1024   ->    19 x  19 x1024\n",
            "   66 conv    512  1 x 1 / 1    19 x  19 x1024   ->    19 x  19 x 512  0.379 BFLOPs\n",
            "   67 conv   1024  3 x 3 / 1    19 x  19 x 512   ->    19 x  19 x1024  3.407 BFLOPs\n",
            "   68 res   65                  19 x  19 x1024   ->    19 x  19 x1024\n",
            "   69 conv    512  1 x 1 / 1    19 x  19 x1024   ->    19 x  19 x 512  0.379 BFLOPs\n",
            "   70 conv   1024  3 x 3 / 1    19 x  19 x 512   ->    19 x  19 x1024  3.407 BFLOPs\n",
            "   71 res   68                  19 x  19 x1024   ->    19 x  19 x1024\n",
            "   72 conv    512  1 x 1 / 1    19 x  19 x1024   ->    19 x  19 x 512  0.379 BFLOPs\n",
            "   73 conv   1024  3 x 3 / 1    19 x  19 x 512   ->    19 x  19 x1024  3.407 BFLOPs\n",
            "   74 res   71                  19 x  19 x1024   ->    19 x  19 x1024\n",
            "   75 conv    512  1 x 1 / 1    19 x  19 x1024   ->    19 x  19 x 512  0.379 BFLOPs\n",
            "   76 conv   1024  3 x 3 / 1    19 x  19 x 512   ->    19 x  19 x1024  3.407 BFLOPs\n",
            "   77 conv    512  1 x 1 / 1    19 x  19 x1024   ->    19 x  19 x 512  0.379 BFLOPs\n",
            "   78 conv   1024  3 x 3 / 1    19 x  19 x 512   ->    19 x  19 x1024  3.407 BFLOPs\n",
            "   79 conv    512  1 x 1 / 1    19 x  19 x1024   ->    19 x  19 x 512  0.379 BFLOPs\n",
            "   80 conv   1024  3 x 3 / 1    19 x  19 x 512   ->    19 x  19 x1024  3.407 BFLOPs\n",
            "   81 conv    255  1 x 1 / 1    19 x  19 x1024   ->    19 x  19 x 255  0.189 BFLOPs\n",
            "   82 yolo\n",
            "   83 route  79\n",
            "   84 conv    256  1 x 1 / 1    19 x  19 x 512   ->    19 x  19 x 256  0.095 BFLOPs\n",
            "   85 upsample            2x    19 x  19 x 256   ->    38 x  38 x 256\n",
            "   86 route  85 61\n",
            "   87 conv    256  1 x 1 / 1    38 x  38 x 768   ->    38 x  38 x 256  0.568 BFLOPs\n",
            "   88 conv    512  3 x 3 / 1    38 x  38 x 256   ->    38 x  38 x 512  3.407 BFLOPs\n",
            "   89 conv    256  1 x 1 / 1    38 x  38 x 512   ->    38 x  38 x 256  0.379 BFLOPs\n",
            "   90 conv    512  3 x 3 / 1    38 x  38 x 256   ->    38 x  38 x 512  3.407 BFLOPs\n",
            "   91 conv    256  1 x 1 / 1    38 x  38 x 512   ->    38 x  38 x 256  0.379 BFLOPs\n",
            "   92 conv    512  3 x 3 / 1    38 x  38 x 256   ->    38 x  38 x 512  3.407 BFLOPs\n",
            "   93 conv    255  1 x 1 / 1    38 x  38 x 512   ->    38 x  38 x 255  0.377 BFLOPs\n",
            "   94 yolo\n",
            "   95 route  91\n",
            "   96 conv    128  1 x 1 / 1    38 x  38 x 256   ->    38 x  38 x 128  0.095 BFLOPs\n",
            "   97 upsample            2x    38 x  38 x 128   ->    76 x  76 x 128\n",
            "   98 route  97 36\n",
            "   99 conv    128  1 x 1 / 1    76 x  76 x 384   ->    76 x  76 x 128  0.568 BFLOPs\n",
            "  100 conv    256  3 x 3 / 1    76 x  76 x 128   ->    76 x  76 x 256  3.407 BFLOPs\n",
            "  101 conv    128  1 x 1 / 1    76 x  76 x 256   ->    76 x  76 x 128  0.379 BFLOPs\n",
            "  102 conv    256  3 x 3 / 1    76 x  76 x 128   ->    76 x  76 x 256  3.407 BFLOPs\n",
            "  103 conv    128  1 x 1 / 1    76 x  76 x 256   ->    76 x  76 x 128  0.379 BFLOPs\n",
            "  104 conv    256  3 x 3 / 1    76 x  76 x 128   ->    76 x  76 x 256  3.407 BFLOPs\n",
            "  105 conv    255  1 x 1 / 1    76 x  76 x 256   ->    76 x  76 x 255  0.754 BFLOPs\n",
            "  106 yolo\n",
            "Loading weights from custom_weight/darknet53.conv.74...Done!\n",
            "Learning Rate: 0.001, Momentum: 0.9, Decay: 0.0005\n",
            "Resizing\n",
            "480\n",
            "Loaded: 0.967277 seconds\n",
            "Region 82 Avg IOU: 0.176972, Class: 0.583881, Obj: 0.459649, No Obj: 0.437520, .5R: 0.000000, .75R: 0.000000,  count: 5\n",
            "Region 94 Avg IOU: 0.131414, Class: 0.393182, Obj: 0.393444, No Obj: 0.519090, .5R: 0.000000, .75R: 0.000000,  count: 4\n",
            "Region 106 Avg IOU: -nan, Class: -nan, Obj: -nan, No Obj: 0.416331, .5R: -nan, .75R: -nan,  count: 0\n",
            "Region 82 Avg IOU: 0.301659, Class: 0.335635, Obj: 0.368402, No Obj: 0.438633, .5R: 0.250000, .75R: 0.000000,  count: 8\n",
            "Region 94 Avg IOU: 0.120901, Class: 0.532435, Obj: 0.583680, No Obj: 0.519027, .5R: 0.000000, .75R: 0.000000,  count: 12\n",
            "Region 106 Avg IOU: 0.176023, Class: 0.449906, Obj: 0.406575, No Obj: 0.416475, .5R: 0.000000, .75R: 0.000000,  count: 14\n",
            "Region 82 Avg IOU: 0.275643, Class: 0.514288, Obj: 0.503389, No Obj: 0.439369, .5R: 0.000000, .75R: 0.000000,  count: 5\n",
            "Region 94 Avg IOU: 0.102203, Class: 0.509008, Obj: 0.542413, No Obj: 0.519604, .5R: 0.000000, .75R: 0.000000,  count: 9\n",
            "Region 106 Avg IOU: 0.179754, Class: 0.524904, Obj: 0.429190, No Obj: 0.416655, .5R: 0.083333, .75R: 0.000000,  count: 12\n",
            "Region 82 Avg IOU: 0.236398, Class: 0.609532, Obj: 0.292985, No Obj: 0.438813, .5R: 0.000000, .75R: 0.000000,  count: 7\n",
            "Region 94 Avg IOU: 0.120115, Class: 0.570969, Obj: 0.534889, No Obj: 0.519241, .5R: 0.000000, .75R: 0.000000,  count: 8\n",
            "Region 106 Avg IOU: 0.179378, Class: 0.433499, Obj: 0.346786, No Obj: 0.419087, .5R: 0.000000, .75R: 0.000000,  count: 24\n",
            "Region 82 Avg IOU: 0.381465, Class: 0.529282, Obj: 0.545785, No Obj: 0.436630, .5R: 0.333333, .75R: 0.000000,  count: 6\n",
            "Region 94 Avg IOU: 0.146959, Class: 0.531550, Obj: 0.509902, No Obj: 0.519714, .5R: 0.000000, .75R: 0.000000,  count: 12\n",
            "Region 106 Avg IOU: 0.223063, Class: 0.464327, Obj: 0.358259, No Obj: 0.416429, .5R: 0.111111, .75R: 0.022222,  count: 45\n",
            "Region 82 Avg IOU: 0.309884, Class: 0.489050, Obj: 0.451123, No Obj: 0.437673, .5R: 0.250000, .75R: 0.000000,  count: 8\n",
            "Region 94 Avg IOU: 0.294623, Class: 0.412971, Obj: 0.456815, No Obj: 0.519919, .5R: 0.000000, .75R: 0.000000,  count: 7\n",
            "Region 106 Avg IOU: 0.161309, Class: 0.524937, Obj: 0.351069, No Obj: 0.416209, .5R: 0.000000, .75R: 0.000000,  count: 14\n",
            "Region 82 Avg IOU: 0.331526, Class: 0.628953, Obj: 0.390441, No Obj: 0.436973, .5R: 0.166667, .75R: 0.000000,  count: 6\n",
            "Region 94 Avg IOU: 0.211035, Class: 0.535996, Obj: 0.421413, No Obj: 0.518761, .5R: 0.200000, .75R: 0.000000,  count: 10\n",
            "Region 106 Avg IOU: 0.195352, Class: 0.465678, Obj: 0.363373, No Obj: 0.414851, .5R: 0.034483, .75R: 0.000000,  count: 29\n",
            "Region 82 Avg IOU: 0.310278, Class: 0.575455, Obj: 0.424671, No Obj: 0.437210, .5R: 0.181818, .75R: 0.000000,  count: 11\n",
            "Region 94 Avg IOU: 0.144541, Class: 0.543469, Obj: 0.666321, No Obj: 0.518246, .5R: 0.000000, .75R: 0.000000,  count: 11\n",
            "Region 106 Avg IOU: 0.164207, Class: 0.440012, Obj: 0.286415, No Obj: 0.421040, .5R: 0.018868, .75R: 0.000000,  count: 53\n",
            "Region 82 Avg IOU: 0.233267, Class: 0.406011, Obj: 0.395840, No Obj: 0.439593, .5R: 0.000000, .75R: 0.000000,  count: 6\n",
            "Region 94 Avg IOU: 0.103210, Class: 0.534681, Obj: 0.480257, No Obj: 0.517940, .5R: 0.000000, .75R: 0.000000,  count: 9\n",
            "Region 106 Avg IOU: 0.205025, Class: 0.447472, Obj: 0.382203, No Obj: 0.417095, .5R: 0.088235, .75R: 0.000000,  count: 34\n",
            "Region 82 Avg IOU: 0.177184, Class: 0.495278, Obj: 0.465735, No Obj: 0.437101, .5R: 0.000000, .75R: 0.000000,  count: 11\n",
            "Region 94 Avg IOU: 0.197114, Class: 0.335980, Obj: 0.409191, No Obj: 0.517976, .5R: 0.000000, .75R: 0.000000,  count: 5\n",
            "Region 106 Avg IOU: 0.258321, Class: 0.421677, Obj: 0.294365, No Obj: 0.423551, .5R: 0.090909, .75R: 0.000000,  count: 11\n",
            "Region 82 Avg IOU: 0.257918, Class: 0.438370, Obj: 0.575620, No Obj: 0.437691, .5R: 0.000000, .75R: 0.000000,  count: 7\n",
            "Region 94 Avg IOU: 0.210277, Class: 0.497882, Obj: 0.599226, No Obj: 0.518618, .5R: 0.100000, .75R: 0.000000,  count: 10\n",
            "Region 106 Avg IOU: 0.171676, Class: 0.413592, Obj: 0.188222, No Obj: 0.418055, .5R: 0.000000, .75R: 0.000000,  count: 11\n",
            "Region 82 Avg IOU: 0.194894, Class: 0.594838, Obj: 0.650605, No Obj: 0.439820, .5R: 0.000000, .75R: 0.000000,  count: 5\n",
            "Region 94 Avg IOU: 0.215047, Class: 0.390477, Obj: 0.273741, No Obj: 0.519617, .5R: 0.000000, .75R: 0.000000,  count: 3\n",
            "Region 106 Avg IOU: 0.068805, Class: 0.443704, Obj: 0.166053, No Obj: 0.416703, .5R: 0.000000, .75R: 0.000000,  count: 4\n",
            "Region 82 Avg IOU: 0.325425, Class: 0.495771, Obj: 0.338427, No Obj: 0.437680, .5R: 0.285714, .75R: 0.000000,  count: 7\n",
            "Region 94 Avg IOU: 0.178416, Class: 0.503386, Obj: 0.456068, No Obj: 0.518870, .5R: 0.000000, .75R: 0.000000,  count: 15\n",
            "Region 106 Avg IOU: 0.183868, Class: 0.428993, Obj: 0.325187, No Obj: 0.416079, .5R: 0.043478, .75R: 0.000000,  count: 23\n",
            "Region 82 Avg IOU: 0.287040, Class: 0.649224, Obj: 0.440628, No Obj: 0.438418, .5R: 0.125000, .75R: 0.000000,  count: 8\n",
            "Region 94 Avg IOU: 0.140556, Class: 0.509713, Obj: 0.461965, No Obj: 0.519792, .5R: 0.000000, .75R: 0.000000,  count: 15\n",
            "Region 106 Avg IOU: 0.219862, Class: 0.447205, Obj: 0.299258, No Obj: 0.420135, .5R: 0.078947, .75R: 0.026316,  count: 38\n",
            "Region 82 Avg IOU: 0.272109, Class: 0.391715, Obj: 0.410930, No Obj: 0.437369, .5R: 0.142857, .75R: 0.000000,  count: 7\n",
            "Region 94 Avg IOU: 0.157420, Class: 0.411007, Obj: 0.626252, No Obj: 0.518863, .5R: 0.000000, .75R: 0.000000,  count: 3\n",
            "Region 106 Avg IOU: 0.046323, Class: 0.453153, Obj: 0.409166, No Obj: 0.416683, .5R: 0.000000, .75R: 0.000000,  count: 5\n",
            "Region 82 Avg IOU: 0.232263, Class: 0.528458, Obj: 0.372166, No Obj: 0.438287, .5R: 0.000000, .75R: 0.000000,  count: 11\n",
            "Region 94 Avg IOU: 0.190215, Class: 0.351957, Obj: 0.420286, No Obj: 0.519134, .5R: 0.000000, .75R: 0.000000,  count: 2\n",
            "Region 106 Avg IOU: 0.181804, Class: 0.465814, Obj: 0.284074, No Obj: 0.418496, .5R: 0.111111, .75R: 0.000000,  count: 9\n",
            "1: 1195.952637, 1195.952637 avg, 0.000000 rate, 2338.804853 seconds, 64 images\n",
            "Loaded: 0.000063 seconds\n",
            "Region 82 Avg IOU: 0.268426, Class: 0.538242, Obj: 0.481312, No Obj: 0.438669, .5R: 0.000000, .75R: 0.000000,  count: 6\n",
            "Region 94 Avg IOU: 0.166479, Class: 0.405359, Obj: 0.651362, No Obj: 0.518728, .5R: 0.000000, .75R: 0.000000,  count: 6\n",
            "Region 106 Avg IOU: 0.077799, Class: 0.515105, Obj: 0.224002, No Obj: 0.418777, .5R: 0.000000, .75R: 0.000000,  count: 5\n",
            "Region 82 Avg IOU: 0.259505, Class: 0.578066, Obj: 0.430070, No Obj: 0.437799, .5R: 0.000000, .75R: 0.000000,  count: 8\n",
            "Region 94 Avg IOU: 0.076043, Class: 0.733493, Obj: 0.497569, No Obj: 0.519866, .5R: 0.000000, .75R: 0.000000,  count: 1\n",
            "Region 106 Avg IOU: 0.162224, Class: 0.417597, Obj: 0.426260, No Obj: 0.416826, .5R: 0.125000, .75R: 0.000000,  count: 8\n",
            "Region 82 Avg IOU: 0.280515, Class: 0.638061, Obj: 0.393098, No Obj: 0.437622, .5R: 0.000000, .75R: 0.000000,  count: 5\n",
            "Region 94 Avg IOU: 0.176759, Class: 0.423907, Obj: 0.515145, No Obj: 0.519068, .5R: 0.000000, .75R: 0.000000,  count: 14\n",
            "Region 106 Avg IOU: 0.176618, Class: 0.460094, Obj: 0.299906, No Obj: 0.419701, .5R: 0.076923, .75R: 0.000000,  count: 26\n",
            "Region 82 Avg IOU: 0.276488, Class: 0.443591, Obj: 0.406150, No Obj: 0.436274, .5R: 0.166667, .75R: 0.000000,  count: 6\n",
            "Region 94 Avg IOU: 0.104055, Class: 0.518163, Obj: 0.299472, No Obj: 0.518345, .5R: 0.000000, .75R: 0.000000,  count: 6\n",
            "Region 106 Avg IOU: 0.222799, Class: 0.520524, Obj: 0.230794, No Obj: 0.418224, .5R: 0.045455, .75R: 0.000000,  count: 22\n",
            "Region 82 Avg IOU: 0.258176, Class: 0.736883, Obj: 0.406332, No Obj: 0.438737, .5R: 0.166667, .75R: 0.000000,  count: 6\n",
            "Region 94 Avg IOU: 0.188301, Class: 0.509704, Obj: 0.579314, No Obj: 0.519123, .5R: 0.000000, .75R: 0.000000,  count: 7\n",
            "Region 106 Avg IOU: 0.208298, Class: 0.594919, Obj: 0.347850, No Obj: 0.415611, .5R: 0.045455, .75R: 0.000000,  count: 22\n",
            "Region 82 Avg IOU: 0.209736, Class: 0.463785, Obj: 0.396793, No Obj: 0.438247, .5R: 0.000000, .75R: 0.000000,  count: 7\n",
            "Region 94 Avg IOU: 0.120836, Class: 0.511729, Obj: 0.550449, No Obj: 0.519141, .5R: 0.000000, .75R: 0.000000,  count: 12\n",
            "Region 106 Avg IOU: 0.190229, Class: 0.442923, Obj: 0.352053, No Obj: 0.416449, .5R: 0.060606, .75R: 0.000000,  count: 33\n",
            "Region 82 Avg IOU: 0.166314, Class: 0.477043, Obj: 0.327745, No Obj: 0.437752, .5R: 0.000000, .75R: 0.000000,  count: 9\n",
            "Region 94 Avg IOU: 0.102418, Class: 0.529212, Obj: 0.429555, No Obj: 0.518512, .5R: 0.000000, .75R: 0.000000,  count: 6\n",
            "Region 106 Avg IOU: 0.157187, Class: 0.515656, Obj: 0.341246, No Obj: 0.417729, .5R: 0.000000, .75R: 0.000000,  count: 6\n",
            "Region 82 Avg IOU: 0.159897, Class: 0.630256, Obj: 0.375723, No Obj: 0.438616, .5R: 0.000000, .75R: 0.000000,  count: 10\n",
            "Region 94 Avg IOU: 0.093889, Class: 0.344888, Obj: 0.547512, No Obj: 0.519184, .5R: 0.000000, .75R: 0.000000,  count: 4\n",
            "Region 106 Avg IOU: 0.236958, Class: 0.524475, Obj: 0.222963, No Obj: 0.419868, .5R: 0.090909, .75R: 0.000000,  count: 22\n",
            "Region 82 Avg IOU: 0.212684, Class: 0.518382, Obj: 0.325262, No Obj: 0.439066, .5R: 0.000000, .75R: 0.000000,  count: 8\n",
            "Region 94 Avg IOU: 0.108870, Class: 0.590457, Obj: 0.625844, No Obj: 0.519146, .5R: 0.000000, .75R: 0.000000,  count: 3\n",
            "Region 106 Avg IOU: 0.142575, Class: 0.466189, Obj: 0.387911, No Obj: 0.417629, .5R: 0.000000, .75R: 0.000000,  count: 10\n",
            "Region 82 Avg IOU: 0.320830, Class: 0.564961, Obj: 0.343153, No Obj: 0.436626, .5R: 0.166667, .75R: 0.166667,  count: 6\n",
            "Region 94 Avg IOU: 0.127583, Class: 0.511302, Obj: 0.491268, No Obj: 0.518623, .5R: 0.000000, .75R: 0.000000,  count: 20\n",
            "Region 106 Avg IOU: 0.271405, Class: 0.507253, Obj: 0.347329, No Obj: 0.415788, .5R: 0.166667, .75R: 0.000000,  count: 24\n",
            "Region 82 Avg IOU: 0.286543, Class: 0.533711, Obj: 0.382718, No Obj: 0.437993, .5R: 0.166667, .75R: 0.166667,  count: 6\n",
            "Region 94 Avg IOU: 0.198050, Class: 0.577553, Obj: 0.470989, No Obj: 0.518070, .5R: 0.166667, .75R: 0.000000,  count: 12\n",
            "Region 106 Avg IOU: 0.198874, Class: 0.471752, Obj: 0.358299, No Obj: 0.414906, .5R: 0.027778, .75R: 0.000000,  count: 36\n",
            "Region 82 Avg IOU: 0.318663, Class: 0.633318, Obj: 0.459075, No Obj: 0.438961, .5R: 0.222222, .75R: 0.000000,  count: 9\n",
            "Region 94 Avg IOU: 0.048490, Class: 0.506683, Obj: 0.889048, No Obj: 0.519975, .5R: 0.000000, .75R: 0.000000,  count: 2\n",
            "Region 106 Avg IOU: -nan, Class: -nan, Obj: -nan, No Obj: 0.422194, .5R: -nan, .75R: -nan,  count: 0\n",
            "Region 82 Avg IOU: 0.153447, Class: 0.426860, Obj: 0.491849, No Obj: 0.436425, .5R: 0.000000, .75R: 0.000000,  count: 6\n",
            "Region 94 Avg IOU: 0.143030, Class: 0.461888, Obj: 0.491420, No Obj: 0.518167, .5R: 0.000000, .75R: 0.000000,  count: 13\n",
            "Region 106 Avg IOU: 0.234644, Class: 0.551072, Obj: 0.350929, No Obj: 0.417777, .5R: 0.115385, .75R: 0.000000,  count: 26\n",
            "Region 82 Avg IOU: 0.345270, Class: 0.497497, Obj: 0.332409, No Obj: 0.437861, .5R: 0.222222, .75R: 0.000000,  count: 9\n",
            "Region 94 Avg IOU: 0.260305, Class: 0.375115, Obj: 0.559135, No Obj: 0.518515, .5R: 0.333333, .75R: 0.000000,  count: 3\n",
            "Region 106 Avg IOU: 0.209705, Class: 0.637956, Obj: 0.257508, No Obj: 0.417122, .5R: 0.111111, .75R: 0.000000,  count: 9\n",
            "Region 82 Avg IOU: 0.279382, Class: 0.510512, Obj: 0.400094, No Obj: 0.437414, .5R: 0.111111, .75R: 0.000000,  count: 9\n",
            "Region 94 Avg IOU: 0.178723, Class: 0.513116, Obj: 0.568893, No Obj: 0.518766, .5R: 0.000000, .75R: 0.000000,  count: 13\n",
            "Region 106 Avg IOU: 0.185590, Class: 0.421603, Obj: 0.328135, No Obj: 0.416291, .5R: 0.022222, .75R: 0.000000,  count: 45\n",
            "Region 82 Avg IOU: 0.231610, Class: 0.501034, Obj: 0.447094, No Obj: 0.439369, .5R: 0.000000, .75R: 0.000000,  count: 7\n",
            "Region 94 Avg IOU: -nan, Class: -nan, Obj: -nan, No Obj: 0.520200, .5R: -nan, .75R: -nan,  count: 0\n",
            "Region 106 Avg IOU: -nan, Class: -nan, Obj: -nan, No Obj: 0.416115, .5R: -nan, .75R: -nan,  count: 0\n",
            "2: 1179.389526, 1194.296387 avg, 0.000000 rate, 2323.543272 seconds, 128 images\n",
            "Loaded: 0.000065 seconds\n",
            "Region 82 Avg IOU: 0.213224, Class: 0.519277, Obj: 0.363335, No Obj: 0.437031, .5R: 0.000000, .75R: 0.000000,  count: 5\n",
            "Region 94 Avg IOU: 0.135871, Class: 0.497178, Obj: 0.427003, No Obj: 0.519992, .5R: 0.000000, .75R: 0.000000,  count: 3\n",
            "Region 106 Avg IOU: 0.403694, Class: 0.401331, Obj: 0.264027, No Obj: 0.418075, .5R: 0.250000, .75R: 0.000000,  count: 4\n",
            "Region 82 Avg IOU: 0.229745, Class: 0.563051, Obj: 0.396868, No Obj: 0.437876, .5R: 0.111111, .75R: 0.000000,  count: 9\n",
            "Region 94 Avg IOU: 0.110061, Class: 0.572235, Obj: 0.454379, No Obj: 0.519343, .5R: 0.000000, .75R: 0.000000,  count: 7\n",
            "Region 106 Avg IOU: 0.182381, Class: 0.492074, Obj: 0.442518, No Obj: 0.416426, .5R: 0.062500, .75R: 0.000000,  count: 32\n",
            "Region 82 Avg IOU: 0.320236, Class: 0.584415, Obj: 0.408047, No Obj: 0.438170, .5R: 0.100000, .75R: 0.000000,  count: 10\n",
            "Region 94 Avg IOU: 0.147361, Class: 0.419485, Obj: 0.585028, No Obj: 0.519259, .5R: 0.000000, .75R: 0.000000,  count: 11\n",
            "Region 106 Avg IOU: 0.255807, Class: 0.564659, Obj: 0.313697, No Obj: 0.417671, .5R: 0.200000, .75R: 0.000000,  count: 10\n",
            "Region 82 Avg IOU: 0.235650, Class: 0.415280, Obj: 0.336670, No Obj: 0.437997, .5R: 0.083333, .75R: 0.000000,  count: 12\n",
            "Region 94 Avg IOU: 0.146906, Class: 0.099457, Obj: 0.411408, No Obj: 0.518549, .5R: 0.000000, .75R: 0.000000,  count: 1\n",
            "Region 106 Avg IOU: -nan, Class: -nan, Obj: -nan, No Obj: 0.420521, .5R: -nan, .75R: -nan,  count: 0\n",
            "Region 82 Avg IOU: 0.273066, Class: 0.519194, Obj: 0.413784, No Obj: 0.438054, .5R: 0.083333, .75R: 0.000000,  count: 12\n",
            "Region 94 Avg IOU: 0.213141, Class: 0.593222, Obj: 0.480493, No Obj: 0.518722, .5R: 0.300000, .75R: 0.000000,  count: 10\n",
            "Region 106 Avg IOU: 0.159587, Class: 0.439842, Obj: 0.207410, No Obj: 0.420525, .5R: 0.074074, .75R: 0.037037,  count: 27\n",
            "Region 82 Avg IOU: 0.175342, Class: 0.609473, Obj: 0.436441, No Obj: 0.437133, .5R: 0.000000, .75R: 0.000000,  count: 5\n",
            "Region 94 Avg IOU: 0.141655, Class: 0.519791, Obj: 0.541491, No Obj: 0.518933, .5R: 0.000000, .75R: 0.000000,  count: 9\n",
            "Region 106 Avg IOU: 0.137616, Class: 0.431776, Obj: 0.292832, No Obj: 0.419592, .5R: 0.000000, .75R: 0.000000,  count: 20\n",
            "Region 82 Avg IOU: 0.162153, Class: 0.398958, Obj: 0.477519, No Obj: 0.436415, .5R: 0.000000, .75R: 0.000000,  count: 8\n",
            "Region 94 Avg IOU: 0.030179, Class: 0.509036, Obj: 0.288876, No Obj: 0.519644, .5R: 0.000000, .75R: 0.000000,  count: 1\n",
            "Region 106 Avg IOU: 0.205925, Class: 0.454971, Obj: 0.369631, No Obj: 0.417154, .5R: 0.000000, .75R: 0.000000,  count: 10\n",
            "Region 82 Avg IOU: 0.269551, Class: 0.388417, Obj: 0.399847, No Obj: 0.438065, .5R: 0.125000, .75R: 0.000000,  count: 8\n",
            "Region 94 Avg IOU: 0.135017, Class: 0.481127, Obj: 0.541321, No Obj: 0.518915, .5R: 0.000000, .75R: 0.000000,  count: 17\n",
            "Region 106 Avg IOU: 0.230939, Class: 0.498386, Obj: 0.346350, No Obj: 0.417751, .5R: 0.065217, .75R: 0.000000,  count: 46\n",
            "Region 82 Avg IOU: 0.198835, Class: 0.573580, Obj: 0.354326, No Obj: 0.435970, .5R: 0.111111, .75R: 0.000000,  count: 9\n",
            "Region 94 Avg IOU: 0.107190, Class: 0.576181, Obj: 0.636867, No Obj: 0.519737, .5R: 0.000000, .75R: 0.000000,  count: 12\n",
            "Region 106 Avg IOU: 0.233218, Class: 0.424399, Obj: 0.356678, No Obj: 0.416238, .5R: 0.064516, .75R: 0.000000,  count: 31\n",
            "Region 82 Avg IOU: 0.291454, Class: 0.430713, Obj: 0.316876, No Obj: 0.437424, .5R: 0.125000, .75R: 0.125000,  count: 8\n",
            "Region 94 Avg IOU: 0.169891, Class: 0.235710, Obj: 0.910913, No Obj: 0.518302, .5R: 0.000000, .75R: 0.000000,  count: 1\n",
            "Region 106 Avg IOU: 0.180596, Class: 0.525920, Obj: 0.223231, No Obj: 0.416921, .5R: 0.125000, .75R: 0.000000,  count: 8\n",
            "Region 82 Avg IOU: 0.352507, Class: 0.690716, Obj: 0.473507, No Obj: 0.437200, .5R: 0.250000, .75R: 0.000000,  count: 4\n",
            "Region 94 Avg IOU: 0.141505, Class: 0.567903, Obj: 0.671323, No Obj: 0.518715, .5R: 0.000000, .75R: 0.000000,  count: 10\n",
            "Region 106 Avg IOU: 0.177595, Class: 0.501207, Obj: 0.313135, No Obj: 0.416521, .5R: 0.111111, .75R: 0.000000,  count: 18\n",
            "Region 82 Avg IOU: 0.307199, Class: 0.388733, Obj: 0.435346, No Obj: 0.436884, .5R: 0.222222, .75R: 0.111111,  count: 9\n",
            "Region 94 Avg IOU: 0.187391, Class: 0.602629, Obj: 0.403899, No Obj: 0.518849, .5R: 0.000000, .75R: 0.000000,  count: 12\n",
            "Region 106 Avg IOU: 0.170484, Class: 0.414741, Obj: 0.377731, No Obj: 0.416552, .5R: 0.000000, .75R: 0.000000,  count: 33\n",
            "Region 82 Avg IOU: 0.174294, Class: 0.535618, Obj: 0.413393, No Obj: 0.437522, .5R: 0.000000, .75R: 0.000000,  count: 6\n",
            "Region 94 Avg IOU: 0.131066, Class: 0.258886, Obj: 0.671393, No Obj: 0.518169, .5R: 0.000000, .75R: 0.000000,  count: 3\n",
            "Region 106 Avg IOU: 0.073293, Class: 0.412371, Obj: 0.177284, No Obj: 0.420000, .5R: 0.000000, .75R: 0.000000,  count: 5\n",
            "Region 82 Avg IOU: 0.226442, Class: 0.657533, Obj: 0.473830, No Obj: 0.437700, .5R: 0.000000, .75R: 0.000000,  count: 9\n",
            "Region 94 Avg IOU: 0.262452, Class: 0.492890, Obj: 0.510775, No Obj: 0.517662, .5R: 0.076923, .75R: 0.000000,  count: 13\n",
            "Region 106 Avg IOU: 0.230293, Class: 0.484786, Obj: 0.254021, No Obj: 0.418971, .5R: 0.035714, .75R: 0.000000,  count: 28\n",
            "Region 82 Avg IOU: 0.207973, Class: 0.491932, Obj: 0.411725, No Obj: 0.437986, .5R: 0.142857, .75R: 0.000000,  count: 7\n",
            "Region 94 Avg IOU: 0.152117, Class: 0.471882, Obj: 0.497614, No Obj: 0.518316, .5R: 0.000000, .75R: 0.000000,  count: 9\n",
            "Region 106 Avg IOU: 0.120509, Class: 0.479333, Obj: 0.334861, No Obj: 0.420983, .5R: 0.000000, .75R: 0.000000,  count: 31\n",
            "Region 82 Avg IOU: 0.215728, Class: 0.561953, Obj: 0.354395, No Obj: 0.436293, .5R: 0.000000, .75R: 0.000000,  count: 8\n",
            "Region 94 Avg IOU: 0.197511, Class: 0.588783, Obj: 0.529910, No Obj: 0.519124, .5R: 0.111111, .75R: 0.111111,  count: 9\n",
            "Region 106 Avg IOU: 0.242792, Class: 0.543437, Obj: 0.358635, No Obj: 0.416634, .5R: 0.064516, .75R: 0.000000,  count: 31\n",
            "3: 1196.776489, 1194.544434 avg, 0.000000 rate, 2324.934913 seconds, 192 images\n",
            "Loaded: 0.000063 seconds\n",
            "Region 82 Avg IOU: 0.314369, Class: 0.572477, Obj: 0.480920, No Obj: 0.436579, .5R: 0.100000, .75R: 0.000000,  count: 10\n",
            "Region 94 Avg IOU: 0.150518, Class: 0.614049, Obj: 0.629078, No Obj: 0.518443, .5R: 0.000000, .75R: 0.000000,  count: 6\n",
            "Region 106 Avg IOU: 0.176619, Class: 0.506296, Obj: 0.338517, No Obj: 0.417201, .5R: 0.000000, .75R: 0.000000,  count: 51\n",
            "Region 82 Avg IOU: 0.272082, Class: 0.581660, Obj: 0.434816, No Obj: 0.437949, .5R: 0.111111, .75R: 0.000000,  count: 9\n",
            "Region 94 Avg IOU: 0.158793, Class: 0.487674, Obj: 0.449197, No Obj: 0.519338, .5R: 0.050000, .75R: 0.000000,  count: 20\n",
            "Region 106 Avg IOU: 0.263826, Class: 0.441578, Obj: 0.363882, No Obj: 0.414680, .5R: 0.191489, .75R: 0.021277,  count: 47\n",
            "Region 82 Avg IOU: 0.314004, Class: 0.617182, Obj: 0.475675, No Obj: 0.437697, .5R: 0.285714, .75R: 0.000000,  count: 7\n",
            "Region 94 Avg IOU: 0.127517, Class: 0.556157, Obj: 0.485385, No Obj: 0.518491, .5R: 0.000000, .75R: 0.000000,  count: 10\n",
            "Region 106 Avg IOU: 0.225587, Class: 0.547233, Obj: 0.365591, No Obj: 0.415160, .5R: 0.107143, .75R: 0.000000,  count: 28\n",
            "Region 82 Avg IOU: 0.271825, Class: 0.579825, Obj: 0.338101, No Obj: 0.438726, .5R: 0.333333, .75R: 0.000000,  count: 6\n",
            "Region 94 Avg IOU: 0.119993, Class: 0.429669, Obj: 0.579816, No Obj: 0.519208, .5R: 0.000000, .75R: 0.000000,  count: 11\n",
            "Region 106 Avg IOU: 0.199661, Class: 0.491580, Obj: 0.346216, No Obj: 0.418334, .5R: 0.107143, .75R: 0.000000,  count: 28\n",
            "Region 82 Avg IOU: 0.269040, Class: 0.534626, Obj: 0.331055, No Obj: 0.436249, .5R: 0.000000, .75R: 0.000000,  count: 7\n",
            "Region 94 Avg IOU: 0.117204, Class: 0.513705, Obj: 0.510611, No Obj: 0.518771, .5R: 0.000000, .75R: 0.000000,  count: 15\n",
            "Region 106 Avg IOU: 0.259607, Class: 0.427965, Obj: 0.415816, No Obj: 0.414949, .5R: 0.142857, .75R: 0.000000,  count: 49\n",
            "Region 82 Avg IOU: 0.312321, Class: 0.475458, Obj: 0.340829, No Obj: 0.438616, .5R: 0.166667, .75R: 0.166667,  count: 6\n",
            "Region 94 Avg IOU: 0.132893, Class: 0.532038, Obj: 0.380383, No Obj: 0.518624, .5R: 0.000000, .75R: 0.000000,  count: 2\n",
            "Region 106 Avg IOU: 0.113619, Class: 0.536010, Obj: 0.216609, No Obj: 0.416746, .5R: 0.000000, .75R: 0.000000,  count: 4\n",
            "Region 82 Avg IOU: 0.251346, Class: 0.661614, Obj: 0.452144, No Obj: 0.437794, .5R: 0.000000, .75R: 0.000000,  count: 6\n",
            "Region 94 Avg IOU: 0.126112, Class: 0.596410, Obj: 0.588882, No Obj: 0.519408, .5R: 0.000000, .75R: 0.000000,  count: 6\n",
            "Region 106 Avg IOU: 0.163075, Class: 0.390066, Obj: 0.251368, No Obj: 0.417152, .5R: 0.000000, .75R: 0.000000,  count: 23\n",
            "Region 82 Avg IOU: 0.181590, Class: 0.606536, Obj: 0.295261, No Obj: 0.438543, .5R: 0.000000, .75R: 0.000000,  count: 6\n",
            "Region 94 Avg IOU: 0.174362, Class: 0.583999, Obj: 0.459342, No Obj: 0.519073, .5R: 0.000000, .75R: 0.000000,  count: 9\n",
            "Region 106 Avg IOU: 0.162771, Class: 0.389685, Obj: 0.296197, No Obj: 0.416253, .5R: 0.037037, .75R: 0.000000,  count: 27\n",
            "Region 82 Avg IOU: 0.261574, Class: 0.516844, Obj: 0.378954, No Obj: 0.439430, .5R: 0.000000, .75R: 0.000000,  count: 8\n",
            "Region 94 Avg IOU: 0.068481, Class: 0.634857, Obj: 0.373348, No Obj: 0.518676, .5R: 0.000000, .75R: 0.000000,  count: 6\n",
            "Region 106 Avg IOU: 0.194899, Class: 0.478556, Obj: 0.401035, No Obj: 0.418446, .5R: 0.031250, .75R: 0.000000,  count: 32\n",
            "Region 82 Avg IOU: 0.193362, Class: 0.601804, Obj: 0.489593, No Obj: 0.439169, .5R: 0.000000, .75R: 0.000000,  count: 6\n",
            "Region 94 Avg IOU: 0.174824, Class: 0.498583, Obj: 0.358133, No Obj: 0.519277, .5R: 0.000000, .75R: 0.000000,  count: 10\n",
            "Region 106 Avg IOU: 0.238185, Class: 0.441019, Obj: 0.388043, No Obj: 0.417965, .5R: 0.133333, .75R: 0.000000,  count: 30\n",
            "Region 82 Avg IOU: 0.216629, Class: 0.598499, Obj: 0.418640, No Obj: 0.437481, .5R: 0.125000, .75R: 0.000000,  count: 8\n",
            "Region 94 Avg IOU: 0.138787, Class: 0.208466, Obj: 0.627406, No Obj: 0.519083, .5R: 0.000000, .75R: 0.000000,  count: 5\n",
            "Region 106 Avg IOU: 0.196365, Class: 0.580743, Obj: 0.382670, No Obj: 0.417953, .5R: 0.000000, .75R: 0.000000,  count: 21\n",
            "Region 82 Avg IOU: 0.154236, Class: 0.519433, Obj: 0.554430, No Obj: 0.437399, .5R: 0.000000, .75R: 0.000000,  count: 4\n",
            "Region 94 Avg IOU: 0.118614, Class: 0.415062, Obj: 0.371177, No Obj: 0.519142, .5R: 0.000000, .75R: 0.000000,  count: 6\n",
            "Region 106 Avg IOU: 0.209291, Class: 0.456600, Obj: 0.398015, No Obj: 0.415418, .5R: 0.086957, .75R: 0.043478,  count: 23\n",
            "Region 82 Avg IOU: 0.409940, Class: 0.388376, Obj: 0.464008, No Obj: 0.438287, .5R: 0.333333, .75R: 0.000000,  count: 6\n",
            "Region 94 Avg IOU: 0.194590, Class: 0.437109, Obj: 0.463616, No Obj: 0.518636, .5R: 0.000000, .75R: 0.000000,  count: 7\n",
            "Region 106 Avg IOU: 0.188148, Class: 0.311296, Obj: 0.378500, No Obj: 0.420996, .5R: 0.000000, .75R: 0.000000,  count: 8\n",
            "Region 82 Avg IOU: 0.275542, Class: 0.525530, Obj: 0.389549, No Obj: 0.437161, .5R: 0.166667, .75R: 0.000000,  count: 6\n",
            "Region 94 Avg IOU: 0.092027, Class: 0.604148, Obj: 0.654041, No Obj: 0.518616, .5R: 0.000000, .75R: 0.000000,  count: 6\n",
            "Region 106 Avg IOU: 0.162060, Class: 0.339853, Obj: 0.287765, No Obj: 0.416729, .5R: 0.045455, .75R: 0.000000,  count: 22\n",
            "Region 82 Avg IOU: 0.215100, Class: 0.299226, Obj: 0.418408, No Obj: 0.439537, .5R: 0.083333, .75R: 0.083333,  count: 12\n",
            "Region 94 Avg IOU: 0.127593, Class: 0.445009, Obj: 0.463573, No Obj: 0.518416, .5R: 0.000000, .75R: 0.000000,  count: 4\n",
            "Region 106 Avg IOU: 0.151242, Class: 0.518771, Obj: 0.179728, No Obj: 0.420151, .5R: 0.000000, .75R: 0.000000,  count: 8\n",
            "Region 82 Avg IOU: 0.169764, Class: 0.589122, Obj: 0.525929, No Obj: 0.437835, .5R: 0.000000, .75R: 0.000000,  count: 7\n",
            "Region 94 Avg IOU: 0.067620, Class: 0.428273, Obj: 0.267825, No Obj: 0.519250, .5R: 0.000000, .75R: 0.000000,  count: 6\n",
            "Region 106 Avg IOU: 0.202965, Class: 0.437057, Obj: 0.435493, No Obj: 0.418545, .5R: 0.041667, .75R: 0.000000,  count: 24\n",
            "4: 1213.241943, 1196.414185 avg, 0.000000 rate, 2329.654856 seconds, 256 images\n",
            "Loaded: 0.000061 seconds\n",
            "Region 82 Avg IOU: 0.320354, Class: 0.494564, Obj: 0.424748, No Obj: 0.438680, .5R: 0.111111, .75R: 0.000000,  count: 9\n",
            "Region 94 Avg IOU: 0.072916, Class: 0.592072, Obj: 0.477816, No Obj: 0.519401, .5R: 0.000000, .75R: 0.000000,  count: 8\n",
            "Region 106 Avg IOU: 0.149869, Class: 0.427792, Obj: 0.307815, No Obj: 0.417984, .5R: 0.000000, .75R: 0.000000,  count: 34\n",
            "Region 82 Avg IOU: 0.324504, Class: 0.502112, Obj: 0.352716, No Obj: 0.438221, .5R: 0.166667, .75R: 0.000000,  count: 6\n",
            "Region 94 Avg IOU: 0.216642, Class: 0.443463, Obj: 0.363293, No Obj: 0.519656, .5R: 0.000000, .75R: 0.000000,  count: 6\n",
            "Region 106 Avg IOU: 0.220195, Class: 0.389493, Obj: 0.285264, No Obj: 0.416375, .5R: 0.000000, .75R: 0.000000,  count: 10\n",
            "Region 82 Avg IOU: 0.211050, Class: 0.549191, Obj: 0.497235, No Obj: 0.438133, .5R: 0.125000, .75R: 0.000000,  count: 8\n",
            "Region 94 Avg IOU: 0.094529, Class: 0.545263, Obj: 0.567536, No Obj: 0.519585, .5R: 0.000000, .75R: 0.000000,  count: 5\n",
            "Region 106 Avg IOU: 0.199964, Class: 0.482321, Obj: 0.303026, No Obj: 0.417230, .5R: 0.095238, .75R: 0.000000,  count: 21\n",
            "Region 82 Avg IOU: 0.229369, Class: 0.488867, Obj: 0.382327, No Obj: 0.438878, .5R: 0.000000, .75R: 0.000000,  count: 10\n",
            "Region 94 Avg IOU: 0.742217, Class: 0.257588, Obj: 0.645216, No Obj: 0.517611, .5R: 1.000000, .75R: 0.000000,  count: 1\n",
            "Region 106 Avg IOU: 0.061257, Class: 0.425158, Obj: 0.062489, No Obj: 0.419445, .5R: 0.000000, .75R: 0.000000,  count: 2\n",
            "Region 82 Avg IOU: 0.222892, Class: 0.321247, Obj: 0.453715, No Obj: 0.437454, .5R: 0.000000, .75R: 0.000000,  count: 7\n",
            "Region 94 Avg IOU: 0.144672, Class: 0.441920, Obj: 0.590895, No Obj: 0.520299, .5R: 0.000000, .75R: 0.000000,  count: 2\n",
            "Region 106 Avg IOU: 0.201772, Class: 0.378540, Obj: 0.328174, No Obj: 0.414910, .5R: 0.000000, .75R: 0.000000,  count: 17\n",
            "Region 82 Avg IOU: 0.293290, Class: 0.394865, Obj: 0.492211, No Obj: 0.437221, .5R: 0.250000, .75R: 0.000000,  count: 4\n",
            "Region 94 Avg IOU: 0.126001, Class: 0.546823, Obj: 0.577779, No Obj: 0.518457, .5R: 0.000000, .75R: 0.000000,  count: 12\n",
            "Region 106 Avg IOU: 0.197268, Class: 0.466795, Obj: 0.334631, No Obj: 0.416593, .5R: 0.040000, .75R: 0.000000,  count: 25\n",
            "Region 82 Avg IOU: 0.159415, Class: 0.418762, Obj: 0.360247, No Obj: 0.438289, .5R: 0.071429, .75R: 0.000000,  count: 14\n",
            "Region 94 Avg IOU: 0.162957, Class: 0.452669, Obj: 0.413216, No Obj: 0.518953, .5R: 0.000000, .75R: 0.000000,  count: 3\n",
            "Region 106 Avg IOU: 0.182527, Class: 0.453291, Obj: 0.380627, No Obj: 0.420259, .5R: 0.000000, .75R: 0.000000,  count: 23\n",
            "Region 82 Avg IOU: 0.320905, Class: 0.602566, Obj: 0.276339, No Obj: 0.436605, .5R: 0.200000, .75R: 0.000000,  count: 10\n",
            "Region 94 Avg IOU: 0.122804, Class: 0.500421, Obj: 0.476968, No Obj: 0.519282, .5R: 0.000000, .75R: 0.000000,  count: 10\n",
            "Region 106 Avg IOU: 0.239566, Class: 0.469727, Obj: 0.413421, No Obj: 0.415059, .5R: 0.102564, .75R: 0.000000,  count: 39\n",
            "Region 82 Avg IOU: 0.214748, Class: 0.512115, Obj: 0.569091, No Obj: 0.438256, .5R: 0.000000, .75R: 0.000000,  count: 8\n",
            "Region 94 Avg IOU: 0.132342, Class: 0.489520, Obj: 0.391523, No Obj: 0.518988, .5R: 0.000000, .75R: 0.000000,  count: 7\n",
            "Region 106 Avg IOU: 0.168947, Class: 0.459529, Obj: 0.259814, No Obj: 0.419941, .5R: 0.000000, .75R: 0.000000,  count: 23\n",
            "Region 82 Avg IOU: 0.201659, Class: 0.518706, Obj: 0.435746, No Obj: 0.438047, .5R: 0.000000, .75R: 0.000000,  count: 9\n",
            "Region 94 Avg IOU: -nan, Class: -nan, Obj: -nan, No Obj: 0.518549, .5R: -nan, .75R: -nan,  count: 0\n",
            "Region 106 Avg IOU: -nan, Class: -nan, Obj: -nan, No Obj: 0.419322, .5R: -nan, .75R: -nan,  count: 0\n",
            "Region 82 Avg IOU: 0.262318, Class: 0.460001, Obj: 0.376825, No Obj: 0.436677, .5R: 0.000000, .75R: 0.000000,  count: 6\n",
            "Region 94 Avg IOU: 0.199679, Class: 0.640683, Obj: 0.411528, No Obj: 0.518879, .5R: 0.000000, .75R: 0.000000,  count: 4\n",
            "Region 106 Avg IOU: 0.204476, Class: 0.466902, Obj: 0.189933, No Obj: 0.421588, .5R: 0.000000, .75R: 0.000000,  count: 14\n",
            "Region 82 Avg IOU: 0.340264, Class: 0.363198, Obj: 0.369265, No Obj: 0.438271, .5R: 0.250000, .75R: 0.000000,  count: 8\n",
            "Region 94 Avg IOU: 0.113673, Class: 0.421022, Obj: 0.307221, No Obj: 0.518888, .5R: 0.000000, .75R: 0.000000,  count: 4\n",
            "Region 106 Avg IOU: 0.268835, Class: 0.513374, Obj: 0.406101, No Obj: 0.417534, .5R: 0.000000, .75R: 0.000000,  count: 3\n",
            "Region 82 Avg IOU: 0.369271, Class: 0.419483, Obj: 0.440940, No Obj: 0.438655, .5R: 0.333333, .75R: 0.000000,  count: 6\n",
            "Region 94 Avg IOU: 0.162022, Class: 0.259558, Obj: 0.371800, No Obj: 0.518112, .5R: 0.000000, .75R: 0.000000,  count: 4\n",
            "Region 106 Avg IOU: 0.115610, Class: 0.594181, Obj: 0.176299, No Obj: 0.419986, .5R: 0.000000, .75R: 0.000000,  count: 11\n",
            "Region 82 Avg IOU: 0.388871, Class: 0.421371, Obj: 0.512265, No Obj: 0.437993, .5R: 0.428571, .75R: 0.000000,  count: 7\n",
            "Region 94 Avg IOU: 0.177506, Class: 0.468409, Obj: 0.589871, No Obj: 0.519010, .5R: 0.000000, .75R: 0.000000,  count: 5\n",
            "Region 106 Avg IOU: 0.245969, Class: 0.417351, Obj: 0.224292, No Obj: 0.418785, .5R: 0.166667, .75R: 0.083333,  count: 12\n",
            "Region 82 Avg IOU: 0.298688, Class: 0.545761, Obj: 0.463747, No Obj: 0.437873, .5R: 0.166667, .75R: 0.000000,  count: 6\n",
            "Region 94 Avg IOU: -nan, Class: -nan, Obj: -nan, No Obj: 0.519248, .5R: -nan, .75R: -nan,  count: 0\n",
            "Region 106 Avg IOU: -nan, Class: -nan, Obj: -nan, No Obj: 0.417329, .5R: -nan, .75R: -nan,  count: 0\n",
            "Region 82 Avg IOU: 0.214404, Class: 0.670310, Obj: 0.394200, No Obj: 0.436541, .5R: 0.000000, .75R: 0.000000,  count: 6\n",
            "Region 94 Avg IOU: 0.116045, Class: 0.416867, Obj: 0.646743, No Obj: 0.520084, .5R: 0.000000, .75R: 0.000000,  count: 3\n",
            "Region 106 Avg IOU: 0.154475, Class: 0.659329, Obj: 0.286763, No Obj: 0.415675, .5R: 0.000000, .75R: 0.000000,  count: 9\n",
            "5: 1162.435425, 1193.016357 avg, 0.000000 rate, 2320.905688 seconds, 320 images\n",
            "Loaded: 0.000064 seconds\n",
            "Region 82 Avg IOU: 0.240725, Class: 0.487180, Obj: 0.283112, No Obj: 0.437977, .5R: 0.090909, .75R: 0.000000,  count: 11\n",
            "Region 94 Avg IOU: 0.681213, Class: 0.596104, Obj: 0.637313, No Obj: 0.518800, .5R: 1.000000, .75R: 0.000000,  count: 2\n",
            "Region 106 Avg IOU: 0.188823, Class: 0.473407, Obj: 0.426626, No Obj: 0.418077, .5R: 0.000000, .75R: 0.000000,  count: 14\n",
            "Region 82 Avg IOU: 0.235997, Class: 0.440126, Obj: 0.408199, No Obj: 0.438194, .5R: 0.000000, .75R: 0.000000,  count: 8\n",
            "Region 94 Avg IOU: 0.213904, Class: 0.419661, Obj: 0.461982, No Obj: 0.518917, .5R: 0.000000, .75R: 0.000000,  count: 3\n",
            "Region 106 Avg IOU: 0.357635, Class: 0.442363, Obj: 0.073014, No Obj: 0.416627, .5R: 0.500000, .75R: 0.000000,  count: 2\n",
            "Region 82 Avg IOU: 0.368215, Class: 0.549318, Obj: 0.343426, No Obj: 0.438248, .5R: 0.000000, .75R: 0.000000,  count: 6\n",
            "Region 94 Avg IOU: 0.197641, Class: 0.432384, Obj: 0.651263, No Obj: 0.519078, .5R: 0.000000, .75R: 0.000000,  count: 8\n",
            "Region 106 Avg IOU: 0.213502, Class: 0.498579, Obj: 0.343303, No Obj: 0.414906, .5R: 0.153846, .75R: 0.000000,  count: 13\n",
            "Region 82 Avg IOU: 0.354341, Class: 0.460567, Obj: 0.429801, No Obj: 0.438650, .5R: 0.100000, .75R: 0.000000,  count: 10\n",
            "Region 94 Avg IOU: 0.202807, Class: 0.501079, Obj: 0.564517, No Obj: 0.519365, .5R: 0.000000, .75R: 0.000000,  count: 7\n",
            "Region 106 Avg IOU: 0.219335, Class: 0.468332, Obj: 0.319367, No Obj: 0.417358, .5R: 0.062500, .75R: 0.000000,  count: 16\n",
            "Region 82 Avg IOU: 0.291928, Class: 0.452763, Obj: 0.295890, No Obj: 0.439696, .5R: 0.200000, .75R: 0.000000,  count: 5\n",
            "Region 94 Avg IOU: 0.260025, Class: 0.227621, Obj: 0.459965, No Obj: 0.518995, .5R: 0.000000, .75R: 0.000000,  count: 2\n",
            "Region 106 Avg IOU: 0.170452, Class: 0.499391, Obj: 0.278182, No Obj: 0.415711, .5R: 0.000000, .75R: 0.000000,  count: 8\n"
          ]
        }
      ]
    },
    {
      "cell_type": "code",
      "source": [],
      "metadata": {
        "id": "3qle1UON7Ejt"
      },
      "execution_count": null,
      "outputs": []
    }
  ]
}