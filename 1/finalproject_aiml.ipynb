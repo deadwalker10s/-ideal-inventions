{
  "nbformat": 4,
  "nbformat_minor": 0,
  "metadata": {
    "colab": {
      "provenance": [],
      "authorship_tag": "ABX9TyPY2aSDJQN/VLL9+wGNZZi6",
      "include_colab_link": true
    },
    "kernelspec": {
      "name": "python3",
      "display_name": "Python 3"
    },
    "language_info": {
      "name": "python"
    },
    "gpuClass": "standard",
    "accelerator": "GPU"
  },
  "cells": [
    {
      "cell_type": "markdown",
      "metadata": {
        "id": "view-in-github",
        "colab_type": "text"
      },
      "source": [
        "<a href=\"https://colab.research.google.com/github/deadwalker10s/-ideal-inventions/blob/main/1/finalproject_aiml.ipynb\" target=\"_parent\"><img src=\"https://colab.research.google.com/assets/colab-badge.svg\" alt=\"Open In Colab\"/></a>"
      ]
    },
    {
      "cell_type": "markdown",
      "source": [
        "# AIML Project\n",
        "## Object Identification for container parts using yolov3 opencv\n",
        "### container part classes\n",
        "\n",
        "  floor,\n",
        "  Rearend top frame,\n",
        "  Rearend bottom frame,\n",
        "  Front top frame,\n",
        "  Front bottom frame,\n",
        "  Top left frame,\n",
        "  bottom left frame,\n",
        "  Top right frame,\n",
        "  bottom right frame,\n",
        "  Interior,\n",
        "  Understructure,\n",
        "  corner fitting,\n",
        "  Rear cornerpost1,\n",
        "  Rear cornerpost2,\n",
        "  Front cornerpost1,\n",
        "  Front cornerpost2,\n",
        "  door handle,\n",
        "  locking bar1,\n",
        "  locking bar2,\n",
        "  locking bar3,\n",
        "  locking bar4,\n",
        "  locking barbracket1,\n",
        "  locking barbracket2,\n",
        "  locking barbracket3,\n",
        "  locking barbracket4,\n",
        "  locking barbracket5,\n",
        "  locking barbracket6,\n",
        "  locking barbracket7,\n",
        "  locking barbracket8,\n",
        "  hinges,\n",
        "  right hinges1,\n",
        "  right hinges2,\n",
        "  right hinges3,\n",
        "  right hinges4,\n",
        "  left hinges1,\n",
        "  left hinges2,\n",
        "  left hinges3,\n",
        "  left hinges4,\n",
        "  seal,\n",
        "  forklift pocket,\n",
        "  frame\n"
      ],
      "metadata": {
        "id": "gofWASN3zina"
      }
    },
    {
      "cell_type": "code",
      "source": [
        "!pip install tensorflow-gpu"
      ],
      "metadata": {
        "id": "v9CmuFuyu73Z"
      },
      "execution_count": null,
      "outputs": []
    },
    {
      "cell_type": "code",
      "source": [
        "import tensorflow as tf\n",
        "print(tf.__version__)"
      ],
      "metadata": {
        "id": "4FCrtdOqwvm4"
      },
      "execution_count": null,
      "outputs": []
    },
    {
      "cell_type": "code",
      "source": [
        "from google.colab import drive\n",
        "drive.mount('/content/drive')"
      ],
      "metadata": {
        "id": "nN5Y3I_p0EpU"
      },
      "execution_count": null,
      "outputs": []
    },
    {
      "cell_type": "code",
      "source": [
        "!ls '/content/drive/My Drive/Yolo_customData'"
      ],
      "metadata": {
        "id": "5vFyWwZioQ57"
      },
      "execution_count": null,
      "outputs": []
    },
    {
      "cell_type": "code",
      "source": [
        "!unzip '/content/drive/My Drive/Yolo_customData/customdata.zip' -d '/content/drive/My Drive/Yolo_customData'"
      ],
      "metadata": {
        "id": "xraHZXrQ4fGk"
      },
      "execution_count": null,
      "outputs": []
    },
    {
      "cell_type": "code",
      "source": [
        "!git clone 'https://github.com/pjreddie/darknet' '/content/drive/My Drive/Yolo_customData/darknet'"
      ],
      "metadata": {
        "colab": {
          "base_uri": "https://localhost:8080/"
        },
        "id": "dNqomPLY65U9",
        "outputId": "0ec87a8d-dd27-46f2-941c-b5dc4653e1db"
      },
      "execution_count": null,
      "outputs": [
        {
          "output_type": "stream",
          "name": "stdout",
          "text": [
            "fatal: destination path '/content/drive/My Drive/Yolo_customData/darknet' already exists and is not an empty directory.\n"
          ]
        }
      ]
    },
    {
      "cell_type": "code",
      "source": [
        "%cd /content/drive/My Drive/Yolo_customData/darknet"
      ],
      "metadata": {
        "colab": {
          "base_uri": "https://localhost:8080/"
        },
        "id": "l-uDNT6E7Rky",
        "outputId": "be4cbf07-3531-4bb6-e1bc-d4a4b0042c12"
      },
      "execution_count": null,
      "outputs": [
        {
          "output_type": "stream",
          "name": "stdout",
          "text": [
            "/content/drive/My Drive/Yolo_customData/darknet\n"
          ]
        }
      ]
    },
    {
      "cell_type": "code",
      "source": [
        "!ls\n"
      ],
      "metadata": {
        "colab": {
          "base_uri": "https://localhost:8080/"
        },
        "id": "a1RHGKw37ozb",
        "outputId": "f09b4a3e-3d80-4fd5-947d-057a3efe6063"
      },
      "execution_count": null,
      "outputs": [
        {
          "output_type": "stream",
          "name": "stdout",
          "text": [
            "backup\t examples\tLICENSE       LICENSE.meta  obj        scripts\n",
            "cfg\t include\tLICENSE.fuck  LICENSE.mit   python     src\n",
            "darknet  libdarknet.a\tLICENSE.gen   LICENSE.v1    README.md\n",
            "data\t libdarknet.so\tLICENSE.gpl   Makefile\t    results\n"
          ]
        }
      ]
    },
    {
      "cell_type": "code",
      "source": [
        "!make"
      ],
      "metadata": {
        "colab": {
          "base_uri": "https://localhost:8080/"
        },
        "id": "-5En_oBg7qDa",
        "outputId": "3dae6501-7270-46ad-cfe6-c3dcd66de409"
      },
      "execution_count": null,
      "outputs": [
        {
          "output_type": "stream",
          "name": "stdout",
          "text": [
            "gcc -Iinclude/ -Isrc/ -DOPENCV `pkg-config --cflags opencv`  -DGPU -I/usr/local/cuda/include/ -DCUDNN  -Wall -Wno-unused-result -Wno-unknown-pragmas -Wfatal-errors -fPIC -Ofast -DOPENCV -DGPU -DCUDNN -c ./src/convolutional_layer.c -o obj/convolutional_layer.o\n",
            "\u001b[01m\u001b[K./src/convolutional_layer.c:\u001b[m\u001b[K In function ‘\u001b[01m\u001b[Kcudnn_convolutional_setup\u001b[m\u001b[K’:\n",
            "\u001b[01m\u001b[K./src/convolutional_layer.c:148:5:\u001b[m\u001b[K \u001b[01;35m\u001b[Kwarning: \u001b[m\u001b[Kimplicit declaration of function ‘\u001b[01m\u001b[KcudnnGetConvolutionForwardAlgorithm\u001b[m\u001b[K’; did you mean ‘\u001b[01m\u001b[KcudnnGetConvolutionForwardAlgorithm_v7\u001b[m\u001b[K’? [\u001b[01;35m\u001b[K-Wimplicit-function-declaration\u001b[m\u001b[K]\n",
            "     \u001b[01;35m\u001b[KcudnnGetConvolutionForwardAlgorithm\u001b[m\u001b[K(cudnn_handle(),\n",
            "     \u001b[01;35m\u001b[K^~~~~~~~~~~~~~~~~~~~~~~~~~~~~~~~~~~\u001b[m\u001b[K\n",
            "     \u001b[32m\u001b[KcudnnGetConvolutionForwardAlgorithm_v7\u001b[m\u001b[K\n",
            "\u001b[01m\u001b[K./src/convolutional_layer.c:153:13:\u001b[m\u001b[K \u001b[01;31m\u001b[Kerror: \u001b[m\u001b[K‘\u001b[01m\u001b[KCUDNN_CONVOLUTION_FWD_SPECIFY_WORKSPACE_LIMIT\u001b[m\u001b[K’ undeclared (first use in this function); did you mean ‘\u001b[01m\u001b[KCUDNN_CONVOLUTION_FWD_ALGO_DIRECT\u001b[m\u001b[K’?\n",
            "             \u001b[01;31m\u001b[KCUDNN_CONVOLUTION_FWD_SPECIFY_WORKSPACE_LIMIT\u001b[m\u001b[K,\n",
            "             \u001b[01;31m\u001b[K^~~~~~~~~~~~~~~~~~~~~~~~~~~~~~~~~~~~~~~~~~~~~\u001b[m\u001b[K\n",
            "             \u001b[32m\u001b[KCUDNN_CONVOLUTION_FWD_ALGO_DIRECT\u001b[m\u001b[K\n",
            "compilation terminated due to -Wfatal-errors.\n",
            "Makefile:89: recipe for target 'obj/convolutional_layer.o' failed\n",
            "make: *** [obj/convolutional_layer.o] Error 1\n"
          ]
        }
      ]
    },
    {
      "cell_type": "code",
      "source": [
        "%cd /content/drive/My Drive/Yolo_customData"
      ],
      "metadata": {
        "id": "oqPRaPBc778d",
        "colab": {
          "base_uri": "https://localhost:8080/"
        },
        "outputId": "693b3bd7-eb70-4ec8-8a25-daa789180e75"
      },
      "execution_count": null,
      "outputs": [
        {
          "output_type": "stream",
          "name": "stdout",
          "text": [
            "/content/drive/My Drive/Yolo_customData\n"
          ]
        }
      ]
    },
    {
      "cell_type": "code",
      "source": [
        "!python customdata/creating-files-data-and-name.py"
      ],
      "metadata": {
        "id": "mJqkM-kBB8K_"
      },
      "execution_count": null,
      "outputs": []
    },
    {
      "cell_type": "code",
      "source": [
        "!python customdata/creating-train-and-test-txt-files.py"
      ],
      "metadata": {
        "id": "_0lO86cGH-BE"
      },
      "execution_count": null,
      "outputs": []
    },
    {
      "cell_type": "code",
      "source": [
        "!darknet/darknet detector train custom_data/labelled_data.data darknet/cfg/yolov3.cfg custom_weight/darknet53.conv.74 -dont_show"
      ],
      "metadata": {
        "id": "9jQ7Vi5IIoxu",
        "colab": {
          "base_uri": "https://localhost:8080/"
        },
        "outputId": "9167610e-1dbf-43e4-8fa3-5e139362eff7"
      },
      "execution_count": null,
      "outputs": [
        {
          "output_type": "stream",
          "name": "stdout",
          "text": [
            "/bin/bash: darknet/darknet: Permission denied\n"
          ]
        }
      ]
    },
    {
      "cell_type": "code",
      "source": [],
      "metadata": {
        "id": "3qle1UON7Ejt"
      },
      "execution_count": null,
      "outputs": []
    }
  ]
}